{
 "cells": [
  {
   "cell_type": "code",
   "execution_count": 64,
   "metadata": {},
   "outputs": [],
   "source": [
    "import glob\n",
    "import pickle\n",
    "import pandas as pd\n",
    "import matplotlib.pyplot as plt\n",
    "from tqdm import tqdm"
   ]
  },
  {
   "cell_type": "code",
   "execution_count": 65,
   "metadata": {
    "tags": [
     "outputPrepend",
     "outputPrepend"
    ]
   },
   "outputs": [
    {
     "output_type": "stream",
     "name": "stderr",
     "text": "100%|██████████| 179320/179320 [01:07<00:00, 2675.11it/s]\n"
    }
   ],
   "source": [
    "vocab = pickle.load(open('word_to_id','rb'))\n",
    "vocab = list(vocab.keys())\n",
    "\n",
    "idx = []\n",
    "\n",
    "df = pd.read_csv('emb_rotated/dim_2_epoch_01.csv')\n",
    "\n",
    "for i in tqdm(range(df.shape[0])):\n",
    "    if df.loc[i,'word'] in vocab:\n",
    "        idx.append(i)"
   ]
  },
  {
   "cell_type": "code",
   "execution_count": 67,
   "metadata": {},
   "outputs": [
    {
     "output_type": "error",
     "ename": "SyntaxError",
     "evalue": "invalid syntax (<ipython-input-67-0e21f9c7de9e>, line 8)",
     "traceback": [
      "\u001b[1;36m  File \u001b[1;32m\"<ipython-input-67-0e21f9c7de9e>\"\u001b[1;36m, line \u001b[1;32m8\u001b[0m\n\u001b[1;33m    ow()\u001b[0m\n\u001b[1;37m     ^\u001b[0m\n\u001b[1;31mSyntaxError\u001b[0m\u001b[1;31m:\u001b[0m invalid syntax\n"
     ]
    }
   ],
   "source": [
    "paths = sorted(glob.glob(\"emb_rotated/dim_2_*\"))\n",
    "\n",
    "for i, path in enumerate(paths):\n",
    "    df = pd.read_csv(path)\n",
    "    df = df.loc[idx,:]\n",
    "    axes[iplter(df['dim1'], df['dim2'])\n",
    "    #\n",
    "    ow()\n",
    ""
   ]
  },
  {
   "cell_type": "code",
   "execution_count": null,
   "metadata": {},
   "outputs": [],
   "source": []
  }
 ],
 "metadata": {
  "kernelspec": {
   "display_name": "Python 3",
   "language": "python",
   "name": "python3"
  },
  "language_info": {
   "codemirror_mode": {
    "name": "ipython",
    "version": 3
   },
   "file_extension": ".py",
   "mimetype": "text/x-python",
   "name": "python",
   "nbconvert_exporter": "python",
   "pygments_lexer": "ipython3",
   "version": "3.7.4-final"
  }
 },
 "nbformat": 4,
 "nbformat_minor": 4
}