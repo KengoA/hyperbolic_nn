{
 "cells": [
  {
   "cell_type": "code",
   "execution_count": 4,
   "metadata": {
    "ExecuteTime": {
     "end_time": "2020-03-14T12:32:12.844011Z",
     "start_time": "2020-03-14T12:32:12.832998Z"
    }
   },
   "outputs": [],
   "source": [
    "import pandas as pd\n",
    "\n",
    "def log_loader(logpath):\n",
    "    with open(logpath) as f:\n",
    "        rawtxt = f.read().replace(\"\\x1b[94m\",\"\").replace(\"\\x1b[91m\",\"\").replace(\"\\x1b[0m\",\"\").replace(\"\\x1b[92m\",\"\").split(\"\\n\")\n",
    "    df = pd.DataFrame(columns=['Epoch','val_acc','test_acc'])\n",
    "    df_loss = pd.DataFrame(columns=['curr_loss','sec_per_sent'])\n",
    "    for i in range(len(rawtxt)):\n",
    "        if \"Epoch\" in rawtxt[i]:\n",
    "            epoch =  int(rawtxt[i][-2:])\n",
    "            val_test_list = rawtxt[i+2].split(\" \")\n",
    "            valac = float(val_test_list[5])\n",
    "            testac = float(val_test_list[10])\n",
    "            df = df.append({\n",
    "                'Epoch':epoch,\n",
    "                'val_acc':valac,\n",
    "                'test_acc':testac\n",
    "            }, ignore_index=True)\n",
    "        if \"curr_loss\" in rawtxt[i]:\n",
    "            loss_list = rawtxt[i].split(\" \")\n",
    "            curr_loss = float(loss_list[7][:-1])\n",
    "            sec_per_sent = float(loss_list[-1])\n",
    "            df_loss = df_loss.append({\n",
    "                'curr_loss':curr_loss,\n",
    "                'sec_per_sent':sec_per_sent\n",
    "            }, ignore_index=True)\n",
    "    return df, df_loss"
   ]
  },
  {
   "cell_type": "code",
   "execution_count": 57,
   "metadata": {
    "ExecuteTime": {
     "end_time": "2020-03-14T14:26:23.628471Z",
     "start_time": "2020-03-14T14:26:23.623474Z"
    }
   },
   "outputs": [],
   "source": [
    "sample_size = 128000"
   ]
  },
  {
   "cell_type": "code",
   "execution_count": 27,
   "metadata": {
    "ExecuteTime": {
     "end_time": "2020-03-14T13:25:49.032101Z",
     "start_time": "2020-03-14T13:25:48.847099Z"
    }
   },
   "outputs": [],
   "source": [
    "twod_eucl_rnn, twod_eucl_rnn_loss = log_loader('2D_eucl_rnn.txt')"
   ]
  },
  {
   "cell_type": "code",
   "execution_count": 28,
   "metadata": {
    "ExecuteTime": {
     "end_time": "2020-03-14T13:25:49.126241Z",
     "start_time": "2020-03-14T13:25:49.120205Z"
    }
   },
   "outputs": [
    {
     "data": {
      "text/plain": [
       "Epoch       29.0000\n",
       "val_acc      0.7763\n",
       "test_acc     0.7792\n",
       "Name: 29, dtype: float64"
      ]
     },
     "execution_count": 28,
     "metadata": {},
     "output_type": "execute_result"
    }
   ],
   "source": [
    "twod_eucl_rnn.loc[29]"
   ]
  },
  {
   "cell_type": "code",
   "execution_count": 58,
   "metadata": {
    "ExecuteTime": {
     "end_time": "2020-03-14T14:26:39.877724Z",
     "start_time": "2020-03-14T14:26:39.871687Z"
    }
   },
   "outputs": [
    {
     "data": {
      "text/plain": [
       "0        64.0\n",
       "1       128.0\n",
       "2       192.0\n",
       "3       256.0\n",
       "4       320.0\n",
       "        ...  \n",
       "119    6745.6\n",
       "120    6809.6\n",
       "121    6873.6\n",
       "122    6937.6\n",
       "123    7001.6\n",
       "Name: sec_per_sent, Length: 124, dtype: float64"
      ]
     },
     "execution_count": 58,
     "metadata": {},
     "output_type": "execute_result"
    }
   ],
   "source": [
    "time_two = np.cumsum(twod_eucl_rnn_loss['sec_per_sent']*sample_size)\n",
    "time_two"
   ]
  },
  {
   "cell_type": "code",
   "execution_count": 31,
   "metadata": {
    "ExecuteTime": {
     "end_time": "2020-03-14T13:26:07.770547Z",
     "start_time": "2020-03-14T13:26:07.624265Z"
    }
   },
   "outputs": [],
   "source": [
    "twod_hyp_rnn, twod_hyp_rnn_loss = log_loader('2D_hyp_rnn.txt')"
   ]
  },
  {
   "cell_type": "code",
   "execution_count": 32,
   "metadata": {
    "ExecuteTime": {
     "end_time": "2020-03-14T13:26:07.991772Z",
     "start_time": "2020-03-14T13:26:07.984772Z"
    }
   },
   "outputs": [
    {
     "data": {
      "text/plain": [
       "Epoch       22.0000\n",
       "val_acc      0.7885\n",
       "test_acc     0.7848\n",
       "Name: 22, dtype: float64"
      ]
     },
     "execution_count": 32,
     "metadata": {},
     "output_type": "execute_result"
    }
   ],
   "source": [
    "twod_hyp_rnn.loc[22]"
   ]
  },
  {
   "cell_type": "code",
   "execution_count": 59,
   "metadata": {
    "ExecuteTime": {
     "end_time": "2020-03-14T14:26:50.456573Z",
     "start_time": "2020-03-14T14:26:50.447541Z"
    }
   },
   "outputs": [
    {
     "data": {
      "text/plain": [
       "0       307.2\n",
       "1       627.2\n",
       "2       934.4\n",
       "3      1241.6\n",
       "4      1548.8\n",
       "       ...   \n",
       "91    28057.6\n",
       "92    28364.8\n",
       "93    28672.0\n",
       "94    28979.2\n",
       "95    29286.4\n",
       "Name: sec_per_sent, Length: 96, dtype: float64"
      ]
     },
     "execution_count": 59,
     "metadata": {},
     "output_type": "execute_result"
    }
   ],
   "source": [
    "time_two= np.cumsum(twod_hyp_rnn_loss['sec_per_sent']*sample_size)\n",
    "time_two"
   ]
  },
  {
   "cell_type": "code",
   "execution_count": 60,
   "metadata": {
    "ExecuteTime": {
     "end_time": "2020-03-14T14:27:15.919581Z",
     "start_time": "2020-03-14T14:27:15.915580Z"
    }
   },
   "outputs": [
    {
     "data": {
      "text/plain": [
       "8.135"
      ]
     },
     "execution_count": 60,
     "metadata": {},
     "output_type": "execute_result"
    }
   ],
   "source": [
    "29286./60/60"
   ]
  },
  {
   "cell_type": "code",
   "execution_count": 37,
   "metadata": {
    "ExecuteTime": {
     "end_time": "2020-03-14T13:28:38.554614Z",
     "start_time": "2020-03-14T13:28:38.346194Z"
    }
   },
   "outputs": [],
   "source": [
    "five_eucl_rnn, five_eucl_rnn_loss = log_loader('5D_eucl_rnn.txt')"
   ]
  },
  {
   "cell_type": "code",
   "execution_count": 38,
   "metadata": {
    "ExecuteTime": {
     "end_time": "2020-03-14T13:28:38.624407Z",
     "start_time": "2020-03-14T13:28:38.620406Z"
    }
   },
   "outputs": [
    {
     "data": {
      "text/plain": [
       "Epoch       29.0000\n",
       "val_acc      0.7854\n",
       "test_acc     0.7812\n",
       "Name: 29, dtype: float64"
      ]
     },
     "execution_count": 38,
     "metadata": {},
     "output_type": "execute_result"
    }
   ],
   "source": [
    "five_eucl_rnn.loc[29]"
   ]
  },
  {
   "cell_type": "code",
   "execution_count": 61,
   "metadata": {
    "ExecuteTime": {
     "end_time": "2020-03-14T14:27:30.212416Z",
     "start_time": "2020-03-14T14:27:30.207419Z"
    }
   },
   "outputs": [
    {
     "data": {
      "text/plain": [
       "0        51.2\n",
       "1       102.4\n",
       "2       153.6\n",
       "3       204.8\n",
       "4       256.0\n",
       "        ...  \n",
       "119    6144.0\n",
       "120    6195.2\n",
       "121    6246.4\n",
       "122    6297.6\n",
       "123    6348.8\n",
       "Name: sec_per_sent, Length: 124, dtype: float64"
      ]
     },
     "execution_count": 61,
     "metadata": {},
     "output_type": "execute_result"
    }
   ],
   "source": [
    "time_fived = np.cumsum(five_eucl_rnn_loss['sec_per_sent']*sample_size)\n",
    "time_fived"
   ]
  },
  {
   "cell_type": "code",
   "execution_count": 40,
   "metadata": {
    "ExecuteTime": {
     "end_time": "2020-03-14T13:29:07.921402Z",
     "start_time": "2020-03-14T13:29:07.720120Z"
    }
   },
   "outputs": [],
   "source": [
    "five_hyp_rnn, five_hyp_rnn_loss = log_loader('5D_hyp_rnn.txt')"
   ]
  },
  {
   "cell_type": "code",
   "execution_count": 41,
   "metadata": {
    "ExecuteTime": {
     "end_time": "2020-03-14T13:29:08.575670Z",
     "start_time": "2020-03-14T13:29:08.569701Z"
    }
   },
   "outputs": [
    {
     "data": {
      "text/plain": [
       "Epoch       6.0000\n",
       "val_acc     0.8156\n",
       "test_acc    0.8144\n",
       "Name: 29, dtype: float64"
      ]
     },
     "execution_count": 41,
     "metadata": {},
     "output_type": "execute_result"
    }
   ],
   "source": [
    "five_hyp_rnn.loc[29]"
   ]
  },
  {
   "cell_type": "code",
   "execution_count": 63,
   "metadata": {
    "ExecuteTime": {
     "end_time": "2020-03-14T14:27:49.034258Z",
     "start_time": "2020-03-14T14:27:49.028259Z"
    }
   },
   "outputs": [
    {
     "data": {
      "text/plain": [
       "0        358.4\n",
       "1        729.6\n",
       "2       1100.8\n",
       "3       1484.8\n",
       "4       1856.0\n",
       "        ...   \n",
       "119    42329.6\n",
       "120    42662.4\n",
       "121    42995.2\n",
       "122    43340.8\n",
       "123    43673.6\n",
       "Name: sec_per_sent, Length: 124, dtype: float64"
      ]
     },
     "execution_count": 63,
     "metadata": {},
     "output_type": "execute_result"
    }
   ],
   "source": [
    "time_fived = np.cumsum(five_hyp_rnn_loss['sec_per_sent']*sample_size)\n",
    "time_fived"
   ]
  },
  {
   "cell_type": "code",
   "execution_count": 43,
   "metadata": {
    "ExecuteTime": {
     "end_time": "2020-03-14T13:29:44.341141Z",
     "start_time": "2020-03-14T13:29:44.138116Z"
    }
   },
   "outputs": [],
   "source": [
    "ten_eucl_rnn, ten_eucl_rnn_loss = log_loader('10D_eucl_rnn.txt')"
   ]
  },
  {
   "cell_type": "code",
   "execution_count": 44,
   "metadata": {
    "ExecuteTime": {
     "end_time": "2020-03-14T13:30:01.228661Z",
     "start_time": "2020-03-14T13:30:01.220669Z"
    }
   },
   "outputs": [
    {
     "data": {
      "text/plain": [
       "Epoch       29.0000\n",
       "val_acc      0.7928\n",
       "test_acc     0.7782\n",
       "Name: 29, dtype: float64"
      ]
     },
     "execution_count": 44,
     "metadata": {},
     "output_type": "execute_result"
    }
   ],
   "source": [
    "ten_eucl_rnn.loc[29]"
   ]
  },
  {
   "cell_type": "code",
   "execution_count": 64,
   "metadata": {
    "ExecuteTime": {
     "end_time": "2020-03-14T14:28:33.800494Z",
     "start_time": "2020-03-14T14:28:33.794497Z"
    }
   },
   "outputs": [
    {
     "data": {
      "text/plain": [
       "0        76.8\n",
       "1       153.6\n",
       "2       230.4\n",
       "3       307.2\n",
       "4       384.0\n",
       "        ...  \n",
       "119    9216.0\n",
       "120    9292.8\n",
       "121    9369.6\n",
       "122    9446.4\n",
       "123    9523.2\n",
       "Name: sec_per_sent, Length: 124, dtype: float64"
      ]
     },
     "execution_count": 64,
     "metadata": {},
     "output_type": "execute_result"
    }
   ],
   "source": [
    "time_ten = np.cumsum(ten_eucl_rnn_loss['sec_per_sent']*sample_size)\n",
    "time_ten"
   ]
  },
  {
   "cell_type": "code",
   "execution_count": 14,
   "metadata": {
    "ExecuteTime": {
     "end_time": "2020-03-14T12:42:08.557338Z",
     "start_time": "2020-03-14T12:42:08.335927Z"
    }
   },
   "outputs": [],
   "source": [
    "ten_hyp_rnn, ten_hyp_rnn_loss = log_loader('10D_hyp_rnn.txt')"
   ]
  },
  {
   "cell_type": "code",
   "execution_count": 19,
   "metadata": {
    "ExecuteTime": {
     "end_time": "2020-03-14T13:06:42.415386Z",
     "start_time": "2020-03-14T13:06:42.410383Z"
    }
   },
   "outputs": [
    {
     "data": {
      "text/plain": [
       "Epoch       3.0000\n",
       "val_acc     0.8211\n",
       "test_acc    0.8217\n",
       "Name: 29, dtype: float64"
      ]
     },
     "execution_count": 19,
     "metadata": {},
     "output_type": "execute_result"
    }
   ],
   "source": [
    "ten_hyp_rnn.loc[29]"
   ]
  },
  {
   "cell_type": "code",
   "execution_count": 65,
   "metadata": {
    "ExecuteTime": {
     "end_time": "2020-03-14T14:29:11.805818Z",
     "start_time": "2020-03-14T14:29:11.798783Z"
    }
   },
   "outputs": [
    {
     "data": {
      "text/plain": [
       "0        307.2\n",
       "1        614.4\n",
       "2        921.6\n",
       "3       1228.8\n",
       "4       1536.0\n",
       "        ...   \n",
       "122    38259.2\n",
       "123    38566.4\n",
       "124    38886.4\n",
       "125    39219.2\n",
       "126    39539.2\n",
       "Name: sec_per_sent, Length: 127, dtype: float64"
      ]
     },
     "execution_count": 65,
     "metadata": {},
     "output_type": "execute_result"
    }
   ],
   "source": [
    "time_ten = np.cumsum(ten_hyp_rnn_loss['sec_per_sent']*sample_size)\n",
    "time_ten"
   ]
  },
  {
   "cell_type": "code",
   "execution_count": 66,
   "metadata": {
    "ExecuteTime": {
     "end_time": "2020-03-14T14:29:24.839146Z",
     "start_time": "2020-03-14T14:29:24.835146Z"
    }
   },
   "outputs": [
    {
     "data": {
      "text/plain": [
       "10.983055555555556"
      ]
     },
     "execution_count": 66,
     "metadata": {},
     "output_type": "execute_result"
    }
   ],
   "source": [
    "39539/60/60"
   ]
  },
  {
   "cell_type": "code",
   "execution_count": null,
   "metadata": {},
   "outputs": [],
   "source": []
  }
 ],
 "metadata": {
  "kernelspec": {
   "display_name": "Python 3",
   "language": "python",
   "name": "python3"
  },
  "language_info": {
   "codemirror_mode": {
    "name": "ipython",
    "version": 3
   },
   "file_extension": ".py",
   "mimetype": "text/x-python",
   "name": "python",
   "nbconvert_exporter": "python",
   "pygments_lexer": "ipython3",
   "version": "3.7.6"
  },
  "varInspector": {
   "cols": {
    "lenName": 16,
    "lenType": 16,
    "lenVar": 40
   },
   "kernels_config": {
    "python": {
     "delete_cmd_postfix": "",
     "delete_cmd_prefix": "del ",
     "library": "var_list.py",
     "varRefreshCmd": "print(var_dic_list())"
    },
    "r": {
     "delete_cmd_postfix": ") ",
     "delete_cmd_prefix": "rm(",
     "library": "var_list.r",
     "varRefreshCmd": "cat(var_dic_list()) "
    }
   },
   "types_to_exclude": [
    "module",
    "function",
    "builtin_function_or_method",
    "instance",
    "_Feature"
   ],
   "window_display": false
  }
 },
 "nbformat": 4,
 "nbformat_minor": 4
}
